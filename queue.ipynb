{
 "cells": [
  {
   "cell_type": "code",
   "execution_count": 1,
   "metadata": {},
   "outputs": [],
   "source": [
    "# Enqueue: Adds an item to the queue. If the queue is full, then it is said to be an Overflow condition – Time \n",
    "# Complexity : O(1)\n",
    "\n",
    "# Dequeue: Removes an item from the queue. The items are popped in the same order in which they are pushed. If the\n",
    "# queue is empty, then it is said to be an Underflow condition – Time Complexity : O(1)\n",
    "\n",
    "# Front: Get the front item from queue – Time Complexity : O(1)\n",
    "\n",
    "# Rear: Get the last item from queue – Time Complexity : O(1)"
   ]
  },
  {
   "cell_type": "code",
   "execution_count": 2,
   "metadata": {},
   "outputs": [
    {
     "name": "stdout",
     "output_type": "stream",
     "text": [
      "Queue after adding elements:\n",
      "['a', 'b', 'c']\n",
      "\n",
      "Elements dequeued from queue:\n",
      "a\n",
      "b\n",
      "c\n",
      "\n",
      "Queue after removing elements:\n",
      "[]\n"
     ]
    }
   ],
   "source": [
    "# Implementation queue using list\n",
    "\n",
    "# Instead of enqueue() and dequeue(), append() and pop() function is used. However, lists are quite slow for this \n",
    "# purpose because inserting or deleting an element at the beginning requires shifting all of the other elements \n",
    "# by one, requiring O(n) time.\n",
    "\n",
    " \n",
    "# Initialize a queue\n",
    "queue = []\n",
    " \n",
    "# Add elements to the queue\n",
    "queue.append('a')\n",
    "queue.append('b')\n",
    "queue.append('c')\n",
    " \n",
    "print('Queue after adding elements:')\n",
    "print(queue)\n",
    " \n",
    "# Remove elements from the queue\n",
    "print(\"\\nElements dequeued from queue:\")\n",
    "print(queue.pop(0))\n",
    "print(queue.pop(0))\n",
    "print(queue.pop(0))\n",
    " \n",
    "print(\"\\nQueue after removing elements:\")\n",
    "print(queue)\n",
    " \n",
    "# Uncomment this line will raise and IndexError as the queue is now empty\n",
    "# queue.pop(0)"
   ]
  },
  {
   "cell_type": "code",
   "execution_count": 3,
   "metadata": {},
   "outputs": [
    {
     "name": "stdout",
     "output_type": "stream",
     "text": [
      "Queue after adding elements:\n",
      "deque(['a', 'b', 'c'])\n",
      "\n",
      "Elements dequeued from the queue:\n",
      "a\n",
      "b\n",
      "c\n",
      "\n",
      "Queue after removing elements:\n",
      "deque([])\n"
     ]
    }
   ],
   "source": [
    "# Implementation using collections.deque\n",
    "\n",
    "# Deque is preferred over list in the cases where we need quicker append and pop operations from both the ends of \n",
    "# container, as deque provides an O(1) time complexity for append and pop operations as compared to list which \n",
    "# provides O(n) time complexity. Instead of enqueue and deque, append() and popleft() functions are used.\n",
    "\n",
    "from collections import deque\n",
    " \n",
    "# Initialize a queue\n",
    "q = deque()\n",
    " \n",
    "# Adding elements to a queue\n",
    "q.append('a')\n",
    "q.append('b')\n",
    "q.append('c')\n",
    " \n",
    "print('Queue after adding elements:')\n",
    "print(q)\n",
    " \n",
    "# Removing elements from a queue\n",
    "print('\\nElements dequeued from the queue:')\n",
    "print(q.popleft())\n",
    "print(q.popleft())\n",
    "print(q.popleft())\n",
    " \n",
    "print('\\nQueue after removing elements:')\n",
    "print(q)\n",
    " \n",
    "# Uncomment this line will raise and IndexError as the queue is now empty\n",
    "# queue.popleft()"
   ]
  },
  {
   "cell_type": "code",
   "execution_count": 4,
   "metadata": {},
   "outputs": [
    {
     "name": "stdout",
     "output_type": "stream",
     "text": [
      "0\n",
      "\n",
      "Full: True\n",
      "\n",
      "Elements dequeued from the queue\n",
      "a\n",
      "b\n",
      "c\n",
      "\n",
      "Empty: True\n",
      "\n",
      "Empty: False\n",
      "Full: False\n"
     ]
    }
   ],
   "source": [
    "# Implementation using queue.Queue\n",
    "\n",
    "# Queue is built-in module of Python which is used to implement a queue. Queue(maxsize) initializes a variable to \n",
    "# a maximum size of maxsize. A maxsize of zero ‘0’ means a infinite queue. This Queue follows FIFO rule.\n",
    "\n",
    "from queue import Queue\n",
    " \n",
    "# Initialize a queue\n",
    "q = Queue(maxsize = 3)\n",
    " \n",
    "# qsize() give the maxsize of the Queue\n",
    "print(q.qsize()) \n",
    " \n",
    "# Add of element to queue\n",
    "q.put('a')\n",
    "q.put('b')\n",
    "q.put('c')\n",
    " \n",
    "# Return True if queue is full\n",
    "print('\\nFull:', q.full()) \n",
    " \n",
    "# Remove element from queue\n",
    "print('\\nElements dequeued from the queue')\n",
    "print(q.get())\n",
    "print(q.get())\n",
    "print(q.get())\n",
    " \n",
    "# Return True if queue is empty\n",
    "print('\\nEmpty:', q.empty())\n",
    " \n",
    "q.put(1)\n",
    "print('\\nEmpty:', q.empty()) \n",
    "print('Full:', q.full())\n",
    " \n",
    "# Uncomment this line would result into Infinite Loop as the Queue is empty. \n",
    "# print(q.get())"
   ]
  }
 ],
 "metadata": {
  "kernelspec": {
   "display_name": "Python 3",
   "language": "python",
   "name": "python3"
  },
  "language_info": {
   "codemirror_mode": {
    "name": "ipython",
    "version": 3
   },
   "file_extension": ".py",
   "mimetype": "text/x-python",
   "name": "python",
   "nbconvert_exporter": "python",
   "pygments_lexer": "ipython3",
   "version": "3.8.5"
  }
 },
 "nbformat": 4,
 "nbformat_minor": 4
}
