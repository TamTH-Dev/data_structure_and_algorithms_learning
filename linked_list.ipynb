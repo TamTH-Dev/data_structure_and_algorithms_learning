{
 "cells": [
  {
   "cell_type": "code",
   "execution_count": 1,
   "metadata": {},
   "outputs": [],
   "source": [
    "# A linked list data structure includes a series of connected nodes. Here, each node store the data and the address\n",
    "# of the next node.\n",
    "\n",
    "# Time Complexity: search O(n), insert and delete O(1)\n",
    "# Space Complexity: O(n)"
   ]
  },
  {
   "cell_type": "code",
   "execution_count": 2,
   "metadata": {},
   "outputs": [],
   "source": [
    "class Node:\n",
    "    def __init__(self, data):\n",
    "        self.data = data\n",
    "        self.next = None"
   ]
  },
  {
   "cell_type": "code",
   "execution_count": 3,
   "metadata": {},
   "outputs": [],
   "source": [
    "class LinkedList:\n",
    "\n",
    "    def __init__(self):\n",
    "        self.head = None\n",
    "\n",
    "    # Insert at the beginning\n",
    "    def insert_at_beginning(self, data):\n",
    "        new_node = Node(data)\n",
    "\n",
    "        new_node.next = self.head\n",
    "        self.head = new_node\n",
    "\n",
    "    # Insert after a node\n",
    "    def insert_after(self, node, data):\n",
    "        if node is None:\n",
    "            print('The given previous node must in LinkedList.')\n",
    "            return\n",
    "\n",
    "        new_node = Node(data)\n",
    "        new_node.next = node.next\n",
    "        node.next = new_node\n",
    "\n",
    "    # Insert at the end\n",
    "    def insert_at_end(self, data):\n",
    "        new_node = Node(data)\n",
    "\n",
    "        if self.head is None:\n",
    "            self.head = new_node\n",
    "            return\n",
    "\n",
    "        last = self.head\n",
    "        while last.next:\n",
    "            last = last.next\n",
    "\n",
    "        last.next = new_node\n",
    "\n",
    "    # Delete a node\n",
    "    def delete_node(self, position):\n",
    "\n",
    "        if self.head == None:\n",
    "            return\n",
    "\n",
    "        temp_node = self.head\n",
    "\n",
    "        if position == 0:\n",
    "            self.head = temp_node.next\n",
    "            temp_node = None\n",
    "            return\n",
    "\n",
    "        # Find the key to be deleted\n",
    "        for i in range(position - 1):\n",
    "            temp_node = temp_node.next\n",
    "            if temp_node is None:\n",
    "                break\n",
    "\n",
    "        # If the key is not present\n",
    "        if temp_node is None:\n",
    "            return\n",
    "\n",
    "        if temp_node.next is None:\n",
    "            return\n",
    "\n",
    "        next = temp_node.next.next\n",
    "        temp_node.next = None\n",
    "        temp_node.next = next\n",
    "\n",
    "    # Traverse through all nodes of linked list\n",
    "    def print_linked_list(self):\n",
    "        temp_node = self.head\n",
    "        print('Head', end='')\n",
    "        while temp_node:\n",
    "            print(f' -> {str(temp_node.data)}', end='')\n",
    "            temp_node = temp_node.next\n",
    "        print()"
   ]
  },
  {
   "cell_type": "code",
   "execution_count": 4,
   "metadata": {},
   "outputs": [
    {
     "name": "stdout",
     "output_type": "stream",
     "text": [
      "Linked list:\n",
      "Head -> 3 -> 2 -> 5 -> 1 -> 4\n",
      "\n",
      "After deleting an element:\n",
      "Head -> 3 -> 2 -> 5 -> 4\n"
     ]
    }
   ],
   "source": [
    "llist = LinkedList()\n",
    "llist.insert_at_end(1)\n",
    "llist.insert_at_beginning(2)\n",
    "llist.insert_at_beginning(3)\n",
    "llist.insert_at_end(4)\n",
    "llist.insert_after(llist.head.next, 5)\n",
    "\n",
    "print('Linked list:')\n",
    "llist.print_linked_list()\n",
    "\n",
    "print('\\nAfter deleting an element:')\n",
    "llist.delete_node(3)\n",
    "llist.print_linked_list()"
   ]
  }
 ],
 "metadata": {
  "kernelspec": {
   "display_name": "Python 3",
   "language": "python",
   "name": "python3"
  },
  "language_info": {
   "codemirror_mode": {
    "name": "ipython",
    "version": 3
   },
   "file_extension": ".py",
   "mimetype": "text/x-python",
   "name": "python",
   "nbconvert_exporter": "python",
   "pygments_lexer": "ipython3",
   "version": "3.8.5"
  }
 },
 "nbformat": 4,
 "nbformat_minor": 4
}
