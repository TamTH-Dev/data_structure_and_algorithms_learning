{
 "cells": [
  {
   "cell_type": "code",
   "execution_count": 1,
   "metadata": {},
   "outputs": [
    {
     "name": "stdout",
     "output_type": "stream",
     "text": [
      "Sorted array: [11, 12, 22, 25, 64]\n"
     ]
    }
   ],
   "source": [
    "# Selection sort\n",
    "\n",
    "# The selection sort algorithm sorts an array by repeatedly finding the minimum element (considering ascending \n",
    "# order) from unsorted part and putting it at the beginning.\n",
    "\n",
    "# Time Complexity: O(n^2) as there are two nested loops.\n",
    "# Space Complexity: O(1)\n",
    "# The good thing about selection sort is it never makes more than O(n) swaps and can be useful when memory write \n",
    "# is a costly operation.\n",
    "\n",
    "# Description algorithm\n",
    "# arr[] = 64 25 12 22 11\n",
    "# Find the minimum element in arr[0...4] and place it at beginning\n",
    "# (11) 25 12 22 64\n",
    "# Find the minimum element in arr[1...4] and place it at beginning of arr[1...4]\n",
    "# 11 (12) 25 22 64\n",
    "# Find the minimum element in arr[2...4] and place it at beginning of arr[2...4]\n",
    "# 11 12 (22) 25 64\n",
    "# Find the minimum element in arr[3...4] and place it at beginning of arr[3...4]\n",
    "# 11 12 22 (25) 64\n",
    "\n",
    "def selection_sort(arr):\n",
    "    # Traverse through all array elements\n",
    "    for i in range(len(arr) - 1):\n",
    "        # Find the minimum element in remaining unsorted array\n",
    "        min_index = i\n",
    "        for j in range(i + 1, len(arr)):\n",
    "            if arr[min_index] > arr[j]:\n",
    "                min_index = j\n",
    "\n",
    "        # Swap the found minimum element with the first element\n",
    "        arr[i], arr[min_index] = arr[min_index], arr[i]\n",
    "\n",
    "\n",
    "# Test algorithm\n",
    "arr = [64, 25, 12, 22, 11]\n",
    "selection_sort(arr)\n",
    "print(f'Sorted array: {arr}')"
   ]
  },
  {
   "cell_type": "code",
   "execution_count": 2,
   "metadata": {},
   "outputs": [
    {
     "name": "stdout",
     "output_type": "stream",
     "text": [
      "Sorted array: [11, 12, 22, 25, 34, 64, 90]\n"
     ]
    }
   ],
   "source": [
    "# Bubble sort\n",
    "\n",
    "# Bubble Sort is the simplest sorting algorithm that works by repeatedly swapping the adjacent elements if they \n",
    "# are in wrong order.\n",
    "\n",
    "# Worst and Average Case Time Complexity: O(n^2). Worst case occurs when array is reverse sorted.\n",
    "# Best Case Time Complexity: O(n). Best case occurs when array is already sorted.\n",
    "# Space Complexity: O(1)\n",
    "\n",
    "# Description algorithm\n",
    "# ( 5 1 4 2 8 ) –> ( 1 5 4 2 8 ), Here, algorithm compares the first two elements, and swaps since 5 > 1.\n",
    "# ( 1 5 4 2 8 ) –> ( 1 4 5 2 8 ), Swap since 5 > 4\n",
    "# ( 1 4 5 2 8 ) –> ( 1 4 2 5 8 ), Swap since 5 > 2\n",
    "# ( 1 4 2 5 8 ) –> ( 1 4 2 5 8 ), Now, since these elements are already in order (8 > 5), algorithm does not swap \n",
    "# them.\n",
    "# After first loop, then go back to the first index and implement similar actions again.\n",
    "\n",
    "def bubble_sort(arr):\n",
    "    n = len(arr)\n",
    "    # Traverse through all array elements \n",
    "    for i in range(n):\n",
    "        swapped = False\n",
    "        # Last i elements are already in place, so we only have to traverse to index (n - i - 1)\n",
    "        for j in range(n - i - 1):\n",
    "            # Swap if the element found is greater than the next element\n",
    "            if arr[j] > arr[j + 1]:\n",
    "                arr[j], arr[j + 1] = arr[j + 1], arr[j]\n",
    "                swapped = True\n",
    "                \n",
    "        # If no two elements were swapped by inner loop, then break\n",
    "        if not swapped: \n",
    "            break\n",
    "\n",
    "\n",
    "# Test algorithm\n",
    "arr = [64, 34, 25, 12, 22, 11, 90]\n",
    "bubble_sort(arr)\n",
    "print(f'Sorted array: {arr}')"
   ]
  },
  {
   "cell_type": "code",
   "execution_count": 3,
   "metadata": {},
   "outputs": [
    {
     "name": "stdout",
     "output_type": "stream",
     "text": [
      "Sorted array: [5, 6, 11, 12, 13]\n"
     ]
    }
   ],
   "source": [
    "# Insertion sort\n",
    "\n",
    "# The array is virtually split into a sorted and an unsorted part. Values from the unsorted part are picked and \n",
    "# placed at the correct position in the sorted part.\n",
    "\n",
    "# Worst and Average Case Time Complexity: O(n^2). Worst case occurs when array is reverse sorted.\n",
    "# Best Case Time Complexity: O(n). Best case occurs when array is already sorted.\n",
    "# Space Complexity: O(1)\n",
    "\n",
    "def insertion_sort(arr):\n",
    "    # Traverse through 1 to len(arr)\n",
    "    for i in range(1, len(arr)):\n",
    "        key = arr[i] \n",
    "  \n",
    "        # Move elements of arr[0..i-1], that are greater than key, to one position ahead of their current position \n",
    "        j = i-1\n",
    "        while j >= 0 and key < arr[j] : \n",
    "            arr[j + 1] = arr[j] \n",
    "            j -= 1\n",
    "        arr[j + 1] = key \n",
    "\n",
    "\n",
    "# Test algorithm\n",
    "arr = [12, 11, 13, 5, 6] \n",
    "insertion_sort(arr) \n",
    "print(f'Sorted array: {arr}')"
   ]
  },
  {
   "cell_type": "code",
   "execution_count": 4,
   "metadata": {},
   "outputs": [
    {
     "name": "stdout",
     "output_type": "stream",
     "text": [
      "Sorted array: [1, 5, 6, 9, 10, 12]\n"
     ]
    }
   ],
   "source": [
    "# Heap sort\n",
    "\n",
    "# Heap sort is a comparison based sorting technique based on Binary Heap data structure. It is similar to selection\n",
    "# sort where we first find the maximum element and place the maximum element at the end. We repeat the same process\n",
    "# for the remaining elements.\n",
    "\n",
    "# Heap Sort has O(nlog(n)) time complexities for all the cases ( best case, average case, and worst case).\n",
    "# The reason is that the height of a complete binary tree containing n elements is log(n). During the building max \n",
    "# heap stage and sorting stage, the worst case complexity is that we need to move an element from the root to the \n",
    "# leaf node making a multiple of log(n) comparisons and swaps. And we do that with n / 2 ~ n times for building\n",
    "# max heap and n times for sorting all nodes in heap. \n",
    "\n",
    "def heapify(arr, n, i):\n",
    "    # Find largest among root, left child and right child\n",
    "    largest = i  # Suppose root is the largest\n",
    "    left = 2 * i + 1\n",
    "    right = 2 * i + 2\n",
    "\n",
    "    # See if left child of root exists and is greater than root\n",
    "    if left < n and arr[left] > arr[largest]:\n",
    "        largest = left\n",
    "\n",
    "    # See if right child of root exists and is greater than root\n",
    "    if right < n and arr[right] > arr[largest]:\n",
    "        largest = right\n",
    "\n",
    "    # Swap and continue heapifying if root is not largest\n",
    "    if largest != i:\n",
    "        arr[i], arr[largest] = arr[largest], arr[i]\n",
    "        heapify(arr, n, largest)\n",
    "\n",
    "\n",
    "def heap_sort(arr):\n",
    "    n = len(arr)\n",
    "\n",
    "    # Build a maxheap\n",
    "    # In the case of a complete tree, the first index of a non-leaf node is given by n/2 - 1. All other nodes after\n",
    "    # that are leaf-nodes and thus don't need to be heapified.\n",
    "    for i in range(n // 2 - 1, -1, -1):\n",
    "        heapify(arr, n, i)\n",
    "\n",
    "    # One by one extract elements\n",
    "    for i in range(n - 1, 0, -1):\n",
    "        arr[i], arr[0] = arr[0], arr[i]\n",
    "        heapify(arr, i, 0)\n",
    "\n",
    "\n",
    "# Test algorithm\n",
    "arr = [1, 12, 9, 5, 6, 10]\n",
    "heap_sort(arr)\n",
    "print(f'Sorted array: {arr}')"
   ]
  }
 ],
 "metadata": {
  "kernelspec": {
   "display_name": "Python 3",
   "language": "python",
   "name": "python3"
  },
  "language_info": {
   "codemirror_mode": {
    "name": "ipython",
    "version": 3
   },
   "file_extension": ".py",
   "mimetype": "text/x-python",
   "name": "python",
   "nbconvert_exporter": "python",
   "pygments_lexer": "ipython3",
   "version": "3.8.5"
  }
 },
 "nbformat": 4,
 "nbformat_minor": 4
}
