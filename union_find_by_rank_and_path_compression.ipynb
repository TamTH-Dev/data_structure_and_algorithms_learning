{
 "cells": [
  {
   "cell_type": "code",
   "execution_count": 1,
   "metadata": {},
   "outputs": [],
   "source": [
    "from collections import defaultdict"
   ]
  },
  {
   "cell_type": "code",
   "execution_count": 2,
   "metadata": {},
   "outputs": [],
   "source": [
    "class Graph:\n",
    "\n",
    "    def __init__(self, num_of_vertices):\n",
    "        self.num_of_vertices = num_of_vertices\n",
    "        self.edges = defaultdict(list)\n",
    "\n",
    "    # Graph is represented as an array of edges\n",
    "    def add_edge(self, u, v):\n",
    "        self.edges[u].append(v)"
   ]
  },
  {
   "cell_type": "code",
   "execution_count": 3,
   "metadata": {},
   "outputs": [],
   "source": [
    "class Subset:\n",
    "\n",
    "    def __init__(self, parent, rank):\n",
    "        self.parent = parent\n",
    "        self.rank = rank"
   ]
  },
  {
   "cell_type": "code",
   "execution_count": 4,
   "metadata": {},
   "outputs": [],
   "source": [
    "# Find root node of subset\n",
    "def find_parent(subsets, node):\n",
    "    if subsets[node].parent != node:\n",
    "        subsets[node].parent = find_parent(subsets, subsets[node].parent)\n",
    "    return subsets[node].parent"
   ]
  },
  {
   "cell_type": "code",
   "execution_count": 5,
   "metadata": {},
   "outputs": [],
   "source": [
    "# Create union of 2 subsets\n",
    "def union(subsets, u, v):\n",
    "    # Attach smaller rank tree under root of higher rank tree (union by rank)\n",
    "    if subsets[u].rank > subsets[v].rank:\n",
    "        subsets[v].parent = u\n",
    "    elif subsets[v].rank > subsets[u].rank:\n",
    "        subsets[u].parent = v\n",
    "\n",
    "    # If ranks are same, then make one as root and increase its rank by one\n",
    "    else:\n",
    "        subsets[v].parent = u\n",
    "        subsets[u].rank += 1"
   ]
  },
  {
   "cell_type": "code",
   "execution_count": 6,
   "metadata": {},
   "outputs": [],
   "source": [
    "# The main method to check whether a given graph contains cycle or not\n",
    "def is_cycle(graph):\n",
    "    # Allocate memory for creating sets\n",
    "    subsets = []\n",
    "    for u in range(graph.num_of_vertices):\n",
    "        subsets.append(Subset(u, 0))\n",
    "    \n",
    "    # Iterate through all edges of graph, find sets of both vertices of every edge,\n",
    "    # if sets are same, then there is cycle in graph.\n",
    "    for u in graph.edges:\n",
    "        u_rep = find_parent(subsets, u)\n",
    " \n",
    "        for v in graph.edges[u]:\n",
    "            v_rep = find_parent(subsets, v)\n",
    "            \n",
    "            if u_rep == v_rep:\n",
    "                return True\n",
    "        \n",
    "            union(subsets, u_rep, v_rep) \n",
    "            \n",
    "    return False"
   ]
  },
  {
   "cell_type": "code",
   "execution_count": 7,
   "metadata": {},
   "outputs": [],
   "source": [
    "g = Graph(5)  # Initialize graph\n",
    "g.add_edge(0, 1)  # Add edge 0-1\n",
    "g.add_edge(1, 2)  # Add edge 1-2\n",
    "g.add_edge(2, 3)  # Add edge 2-3\n",
    "g.add_edge(3, 0)  # Add edge 3-0"
   ]
  },
  {
   "cell_type": "code",
   "execution_count": 8,
   "metadata": {},
   "outputs": [
    {
     "name": "stdout",
     "output_type": "stream",
     "text": [
      "Graph contains cycle\n"
     ]
    }
   ],
   "source": [
    "# Test algorithm\n",
    "if is_cycle(g):\n",
    "    print('Graph contains cycle')\n",
    "else:\n",
    "    print('Graph does not contain cycle')"
   ]
  }
 ],
 "metadata": {
  "kernelspec": {
   "display_name": "Python 3",
   "language": "python",
   "name": "python3"
  },
  "language_info": {
   "codemirror_mode": {
    "name": "ipython",
    "version": 3
   },
   "file_extension": ".py",
   "mimetype": "text/x-python",
   "name": "python",
   "nbconvert_exporter": "python",
   "pygments_lexer": "ipython3",
   "version": "3.8.5"
  }
 },
 "nbformat": 4,
 "nbformat_minor": 4
}
