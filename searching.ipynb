{
 "cells": [
  {
   "cell_type": "code",
   "execution_count": 1,
   "metadata": {},
   "outputs": [],
   "source": [
    "# Linear search is the simplest searching algorithm that searches for an element in a list in sequential order. We start at one\n",
    "# end and check every element until the desired element is not found\n",
    "\n",
    "# Time Complexity: O(n)\n",
    "# Space Complexity: O(1)"
   ]
  },
  {
   "cell_type": "code",
   "execution_count": 2,
   "metadata": {},
   "outputs": [
    {
     "name": "stdout",
     "output_type": "stream",
     "text": [
      "Element found at index: 3\n"
     ]
    }
   ],
   "source": [
    "def linear_search(arr, x):\n",
    "\n",
    "    # Going through array sequencially\n",
    "    for i in range(0, len(arr)):\n",
    "        if arr[i] == x:\n",
    "            return i\n",
    "    return -1\n",
    "\n",
    "\n",
    "arr = [2, 4, 0, 1, 9]\n",
    "x = 1\n",
    "result = linear_search(arr, x)\n",
    "if result == -1:\n",
    "    print('Element not found')\n",
    "else:\n",
    "    print(f'Element found at index: {result}')"
   ]
  },
  {
   "cell_type": "code",
   "execution_count": 3,
   "metadata": {},
   "outputs": [],
   "source": [
    "# Binary Search is a searching algorithm for finding an element's position in a sorted array.\n",
    "# In this approach, the element is always searched in the middle of a portion of an array.\n",
    "\n",
    "# Binary Search Algorithm can be implemented in two ways:\n",
    "# - Iterative Method\n",
    "# - Recursive Method\n",
    "\n",
    "# Time Complexities:\n",
    "# - Best case complexity: O(1)\n",
    "# - Average case complexity: O(log n)\n",
    "# - Worst case complexity: O(log n)\n",
    "\n",
    "# Space Complexity: O(n)"
   ]
  },
  {
   "cell_type": "code",
   "execution_count": 4,
   "metadata": {},
   "outputs": [
    {
     "name": "stdout",
     "output_type": "stream",
     "text": [
      "Item found by iterative binary search at index: 5\n",
      "\n",
      "Item found by recursive binary search at index: 5\n"
     ]
    }
   ],
   "source": [
    "# Iterative method\n",
    "def iter_binary_search(arr, x, low, high):\n",
    "\n",
    "    # Repeat until the pointers low and high meet each other\n",
    "    while low <= high:\n",
    "\n",
    "        mid = low + (high - low) // 2\n",
    "\n",
    "        if arr[mid] == x:\n",
    "            return mid\n",
    "\n",
    "        elif arr[mid] < x:\n",
    "            low = mid + 1\n",
    "\n",
    "        else:\n",
    "            high = mid - 1\n",
    "\n",
    "    return -1\n",
    "\n",
    "\n",
    "# Recursive method\n",
    "def recursive_binary_search(arr, x, low, high):\n",
    "    if high >= low:\n",
    "\n",
    "        mid = low + (high - low) // 2\n",
    "\n",
    "        # If found at mid, then return it\n",
    "        if arr[mid] == x:\n",
    "            return mid\n",
    "\n",
    "        # Search the left half\n",
    "        elif arr[mid] > x:\n",
    "            return recursive_binary_search(arr, x, low, mid-1)\n",
    "\n",
    "        # Search the right half\n",
    "        else:\n",
    "            return recursive_binary_search(arr, x, mid + 1, high)\n",
    "\n",
    "    return -1\n",
    "\n",
    "\n",
    "# Test algorithm\n",
    "arr = [3, 4, 5, 6, 7, 8, 9]\n",
    "x = 8\n",
    "st_result = iter_binary_search(arr, x, 0, len(arr) - 1)\n",
    "nd_result = recursive_binary_search(arr, x, 0, len(arr) - 1)\n",
    "\n",
    "if st_result == -1:\n",
    "    print('Item not found by iterative binary search')\n",
    "else:\n",
    "    print(f'Item found by iterative binary search at index: {st_result}')\n",
    "print()\n",
    "if nd_result == -1:\n",
    "    print('Item not found by recursive binary search')\n",
    "else:\n",
    "    print(f'Item found by recursive binary search at index: {nd_result}')"
   ]
  }
 ],
 "metadata": {
  "kernelspec": {
   "display_name": "Python 3",
   "language": "python",
   "name": "python3"
  },
  "language_info": {
   "codemirror_mode": {
    "name": "ipython",
    "version": 3
   },
   "file_extension": ".py",
   "mimetype": "text/x-python",
   "name": "python",
   "nbconvert_exporter": "python",
   "pygments_lexer": "ipython3",
   "version": "3.7.9"
  }
 },
 "nbformat": 4,
 "nbformat_minor": 4
}
