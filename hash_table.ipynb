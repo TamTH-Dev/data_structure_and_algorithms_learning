{
 "cells": [
  {
   "cell_type": "code",
   "execution_count": 1,
   "metadata": {},
   "outputs": [],
   "source": [
    "# Hash table is a data structure that represents data in the form of key-value pairs. Each key is mapped to a value in the hash\n",
    "# table. The keys are used for indexing the values/data. A similar approach is applied by an associative array."
   ]
  },
  {
   "cell_type": "code",
   "execution_count": 2,
   "metadata": {},
   "outputs": [],
   "source": [
    "# Direct Address Table\n",
    "\n",
    "# Direct address table is used when the amount of space used by the table is not a problem for the program.\n",
    "# - The keys are small integers.\n",
    "# - The number of keys is not too large.\n",
    "# - No two data have the same key.\n",
    "\n",
    "# A pool of integers is taken called universe U = {0, 1, ……., n-1}.\n",
    "# Each slot of a direct address table T[0...n-1] contains a pointer to the element that corresponds to the data.\n",
    "# The index of the array T is the key itself and the content of T is a pointer to the set [key, element]. If there is no element\n",
    "# for a key then, it is left as NULL."
   ]
  },
  {
   "cell_type": "code",
   "execution_count": 3,
   "metadata": {},
   "outputs": [],
   "source": [
    "# Hash Table\n",
    "\n",
    "# In a hash table, the keys are processed to produce a new index that maps to the required element. This process is called\n",
    "# hashing.\n",
    "# Let h(x) be a hash function and k be a key, h(k) is calculated and it is used as an index for the element.\n",
    "\n",
    "# The limitation of hash table is that if the same index is produced by the hash function for multiple keys then, conflict \n",
    "# arises (called collision).\n",
    "# To avoid this, a suitable hash function is chosen. But, it is impossible to produce all unique keys because |U|>m. Thus a \n",
    "# good hash function may not prevent the collisions completely however it can reduce the number of collisions.\n",
    "\n",
    "# The main issues with direct address table are the size of the array and the possibly large value of a key. The hash function\n",
    "# reduces the range of index and thus the size of the array is also reduced.\n",
    "# Ex. If k = 9845648451321, then h(k) = 11 (by using some hash function). This helps in saving the memory wasted while\n",
    "# providing the index of 9845648451321 to the array\n",
    "\n",
    "# Collision resolution by chaining:  if a hash function produces the same index for multiple elements, these elements are stored\n",
    "# in the same index by using a doubly linked list."
   ]
  },
  {
   "cell_type": "code",
   "execution_count": 4,
   "metadata": {},
   "outputs": [
    {
     "name": "stdout",
     "output_type": "stream",
     "text": [
      "Hash table after initilized:\n",
      "[[], [], [], [], [], [], [], [], [], []]\n",
      "Hash table after adding elements:\n",
      "[[], [], [123, 'apple'], [432, 'mango'], [213, 'banana'], [654, 'guava'], [], [], [], []]\n",
      "Hash table after remove element:\n",
      "[[], [], [], [432, 'mango'], [213, 'banana'], [654, 'guava'], [], [], [], []]\n"
     ]
    }
   ],
   "source": [
    "# Check whether number is prime number or not\n",
    "def check_prime(n):\n",
    "    if n == 1 or n == 0:\n",
    "        return False\n",
    "    \n",
    "    if n == 2:\n",
    "        return True\n",
    "\n",
    "    for i in range(2, n//2):\n",
    "        if n % i == 0:\n",
    "            return False\n",
    "\n",
    "    return True\n",
    "\n",
    "\n",
    "# Get value of prime\n",
    "def get_prime(n):\n",
    "    if n % 2 == 0:\n",
    "        n = n + 1\n",
    "\n",
    "    while not check_prime(n):\n",
    "        n += 2\n",
    "\n",
    "    return n\n",
    "\n",
    "\n",
    "# Create hash function to get index of inserted data\n",
    "def hash_func(key):\n",
    "    capacity = get_prime(10)\n",
    "    return key % capacity\n",
    "\n",
    "\n",
    "# Insert data to hash table\n",
    "def insert_data(hash_table, key, data):\n",
    "    index = hash_func(key)\n",
    "    hash_table[index] = [key, data]\n",
    "\n",
    "\n",
    "# Remove data from hash table\n",
    "def remove_data(hash_table, key):\n",
    "    index = hash_func(key)\n",
    "    hash_table[index] = []\n",
    "\n",
    "\n",
    "hash_table = [[]] * 10\n",
    "print('Hash table after initilized:')\n",
    "print(hash_table)\n",
    "\n",
    "insert_data(hash_table, 123, 'apple')\n",
    "insert_data(hash_table, 432, 'mango')\n",
    "insert_data(hash_table, 213, 'banana')\n",
    "insert_data(hash_table, 654, 'guava')\n",
    "print('Hash table after adding elements:')\n",
    "print(hash_table)\n",
    "\n",
    "remove_data(hash_table, 123)\n",
    "print('Hash table after remove element:')\n",
    "print(hash_table)"
   ]
  }
 ],
 "metadata": {
  "kernelspec": {
   "display_name": "Python 3",
   "language": "python",
   "name": "python3"
  },
  "language_info": {
   "codemirror_mode": {
    "name": "ipython",
    "version": 3
   },
   "file_extension": ".py",
   "mimetype": "text/x-python",
   "name": "python",
   "nbconvert_exporter": "python",
   "pygments_lexer": "ipython3",
   "version": "3.7.9"
  }
 },
 "nbformat": 4,
 "nbformat_minor": 4
}
