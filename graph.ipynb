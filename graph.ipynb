{
 "cells": [
  {
   "cell_type": "code",
   "execution_count": 1,
   "metadata": {},
   "outputs": [],
   "source": [
    "# A graph data structure is a collection of nodes that have data and are connected to other nodes.\n",
    "\n",
    "# More precisely, a graph is a data structure (V, E) that consists of:\n",
    "# - A collection of vertices V\n",
    "# - A collection of edges E, represented as ordered pairs of vertices (u,v)\n",
    "\n",
    "# - Adjacency: A vertex is said to be adjacent to another vertex if there is an edge connecting them.\n",
    "# - Path: A sequence of edges that allows you to go from vertex A to vertex B is called a path.\n",
    "# - Directed Graph: A graph in which an edge (u,v) doesn't necessarily mean that there is an edge (v, u) as well. The edges in \n",
    "# such a graph are represented by arrows to show the direction of the edge.\n",
    "\n",
    "# Graphs are commonly represented in two ways:\n",
    "# - Adjacency Matrix: An adjacency matrix is a 2D array of V x V vertices. Each row and column represent a vertex. If the value\n",
    "# of any element a[i][j] is 1, it represents that there is an edge connecting vertex i and vertex j.\n",
    "# - Adjacency List: An adjacency list represents a graph as an array of linked lists. The index of the array represents a vertex\n",
    "# and each element in its linked list represents the other vertices that form an edge with the vertex."
   ]
  },
  {
   "cell_type": "code",
   "execution_count": 2,
   "metadata": {},
   "outputs": [],
   "source": [
    "# Spanning Tree\n",
    "\n",
    "# An undirected graph is a graph in which the edges do not point in any direction (ie. the edges are bidirectional).\n",
    "# A connected graph is a graph in which there is always a path from a vertex to any other vertex.\n",
    "\n",
    "# A spanning tree is a sub-graph of an undirected connected graph, which includes all the vertices of the graph with a minimum \n",
    "# possible number of edges. If a vertex is missed, then it is not a spanning tree.\n",
    "\n",
    "# The edges may or may not have weights assigned to them.\n",
    "# The total number of spanning trees with n vertices that can be created from a complete graph is equal to n ^ (n-2).\n",
    "\n",
    "# Minimum Spanning Tree: is a spanning tree in which the sum of the weight of the edges is as minimum as possible."
   ]
  },
  {
   "cell_type": "code",
   "execution_count": 3,
   "metadata": {},
   "outputs": [],
   "source": [
    "# Prim's algorithm is a minimum spanning tree algorithm that takes a graph as input and finds the subset of the edges of that \n",
    "# graph which\n",
    "# - Form a tree that includes every vertex\n",
    "# - Has the minimum sum of weights among all the trees that can be formed from the graph\n",
    "\n",
    "# It falls under a class of algorithms called greedy algorithms that find the local optimum in the hopes of finding a global \n",
    "# optimum.\n",
    "\n",
    "# Starting from one vertex and keeping adding edges with the lowest weight until reaching the goal.\n",
    "\n",
    "# The steps for implementing Prim's algorithm:\n",
    "# - Initialize the minimum spanning tree with a vertex chosen at random.\n",
    "# - Find all the edges that connect the tree to new vertices, find the minimum and add it to the tree\n",
    "# - Keep repeating step 2 until we get a minimum spanning tree"
   ]
  },
  {
   "cell_type": "code",
   "execution_count": 14,
   "metadata": {},
   "outputs": [
    {
     "name": "stdout",
     "output_type": "stream",
     "text": [
      "Edge | Weight\n",
      "0-1  | 9\n",
      "1-3  | 19\n",
      "3-4  | 31\n",
      "3-2  | 51\n"
     ]
    }
   ],
   "source": [
    "# Set infinite number\n",
    "INF = float('inf')\n",
    "# Number of vertices in graph\n",
    "V = 5\n",
    "# Initialize a 2d array of size 5x5 for adjacency matrix to represent graph\n",
    "G = [[0, 9, 75, 0, 0],\n",
    "     [9, 0, 95, 19, 42],\n",
    "     [75, 95, 0, 51, 66],\n",
    "     [0, 19, 51, 0, 31],\n",
    "     [0, 42, 66, 31, 0]]\n",
    "# Initialize a array to track selected vertex\n",
    "# Selected vertex will become true otherwise false\n",
    "selected_vertices = [0, 0, 0, 0, 0]\n",
    "# Set number of edge to 0\n",
    "num_of_edges = 0\n",
    "# The number of egde in minimum spanning tree will be always less than (V - 1), where V is number of vertices in graph\n",
    "# Choose 0th vertex and make it true\n",
    "selected_vertices[0] = True\n",
    "\n",
    "print('Edge | Weight')\n",
    "while num_of_edges < V - 1:\n",
    "    # For every vertex in the set S, find the all adjacent vertices\n",
    "    #, calculate the distance from the vertex selected at step 1.\n",
    "    # if the vertex is already in the set S, discard it otherwise\n",
    "    # choose another vertex nearest to selected vertex  at step 1.\n",
    "    minimum = INF\n",
    "    x = 0\n",
    "    y = 0\n",
    "    \n",
    "    for i in range(V):\n",
    "        if selected_vertices[i]:\n",
    "            for j in range(V):\n",
    "                # Check if evaluated vertex is not in selected list and there is an edge between it and selected edge\n",
    "                if not selected_vertices[j] and G[i][j]:  \n",
    "                    if minimum > G[i][j]:\n",
    "                        minimum = G[i][j]\n",
    "                        x = i\n",
    "                        y = j\n",
    "                        \n",
    "    print(f'{str(x)}-{str(y)}  | {str(G[x][y])}')\n",
    "    selected_vertices[y] = True\n",
    "    num_of_edges += 1"
   ]
  }
 ],
 "metadata": {
  "kernelspec": {
   "display_name": "Python 3",
   "language": "python",
   "name": "python3"
  },
  "language_info": {
   "codemirror_mode": {
    "name": "ipython",
    "version": 3
   },
   "file_extension": ".py",
   "mimetype": "text/x-python",
   "name": "python",
   "nbconvert_exporter": "python",
   "pygments_lexer": "ipython3",
   "version": "3.7.9"
  }
 },
 "nbformat": 4,
 "nbformat_minor": 4
}
